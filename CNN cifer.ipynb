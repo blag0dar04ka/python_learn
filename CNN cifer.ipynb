{
  "nbformat": 4,
  "nbformat_minor": 0,
  "metadata": {
    "accelerator": "GPU",
    "colab": {
      "name": "Dyrenkov_Vyacheslav_hw3.ipynb",
      "provenance": []
    },
    "kernelspec": {
      "display_name": "Python 3",
      "language": "python",
      "name": "python3"
    },
    "language_info": {
      "codemirror_mode": {
        "name": "ipython",
        "version": 3
      },
      "file_extension": ".py",
      "mimetype": "text/x-python",
      "name": "python",
      "nbconvert_exporter": "python",
      "pygments_lexer": "ipython3",
      "version": "3.7.3"
    }
  },
  "cells": [
    {
      "cell_type": "markdown",
      "metadata": {
        "colab_type": "text",
        "id": "gO2BchskQWoH"
      },
      "source": [
        "# Домашнее задание 3.\n",
        "\n",
        "`Keras` и сверточные нейронные сети."
      ]
    },
    {
      "cell_type": "code",
      "metadata": {
        "colab_type": "code",
        "id": "WmIuIaLEATMn",
        "outputId": "63945c02-f1db-4cf0-bc93-da9dd37ed9fb",
        "colab": {
          "base_uri": "https://localhost:8080/",
          "height": 51
        }
      },
      "source": [
        "import tensorflow as tf\n",
        "import keras\n",
        "from keras import backend as K\n",
        "import numpy as np\n",
        "%matplotlib inline\n",
        "import matplotlib.pyplot as plt\n",
        "print(tf.__version__)\n",
        "print(keras.__version__)"
      ],
      "execution_count": 5,
      "outputs": [
        {
          "output_type": "stream",
          "text": [
            "1.15.0\n",
            "2.2.5\n"
          ],
          "name": "stdout"
        }
      ]
    },
    {
      "cell_type": "code",
      "metadata": {
        "colab_type": "code",
        "id": "efsrp4vQfls5",
        "colab": {}
      },
      "source": [
        "def reset_tf_session():\n",
        "    curr_session = tf.get_default_session()\n",
        "    if curr_session is not None:\n",
        "        curr_session.close()\n",
        "    K.clear_session()\n",
        "    config = tf.ConfigProto()\n",
        "    config.gpu_options.allow_growth = True\n",
        "    s = tf.InteractiveSession(config=config)\n",
        "    K.set_session(s)\n",
        "    return s"
      ],
      "execution_count": 0,
      "outputs": []
    },
    {
      "cell_type": "markdown",
      "metadata": {
        "colab_type": "text",
        "id": "HE_SpMQMQm8Y"
      },
      "source": [
        "## Задание 1 — инициализация весов CNN (3 балла).\n",
        "\n",
        "В этом задании нужно будет исследовать, как выбор функции инициализации весов влияет на обучение CNN.\n"
      ]
    },
    {
      "cell_type": "markdown",
      "metadata": {
        "colab_type": "text",
        "id": "oIoAOXkJSwbs"
      },
      "source": [
        "Продолжим работать с датасетом CIFAR-10."
      ]
    },
    {
      "cell_type": "code",
      "metadata": {
        "colab_type": "code",
        "id": "IsuA4kiHA4ff",
        "outputId": "c13bfe89-13a7-4f12-8aa2-a8d7fa1d0d69",
        "colab": {
          "base_uri": "https://localhost:8080/",
          "height": 85
        }
      },
      "source": [
        "from keras.datasets import cifar10\n",
        "(x_train, y_train), (x_test, y_test) = cifar10.load_data()\n",
        "\n",
        "NUM_CLASSES = 10\n",
        "cifar10_classes = [\"airplane\", \"automobile\", \"bird\", \"cat\", \"deer\", \n",
        "                   \"dog\", \"frog\", \"horse\", \"ship\", \"truck\"]\n",
        "\n",
        "print(\"Train samples:\", x_train.shape, y_train.shape)\n",
        "print(\"Test samples:\", x_test.shape, y_test.shape)\n",
        "\n",
        "# нормализуем входные данные\n",
        "x_train = x_train / 255 - 0.5\n",
        "x_test = x_test / 255 - 0.5\n",
        "\n",
        "y_train = keras.utils.to_categorical(y_train, 10)\n",
        "y_test = keras.utils.to_categorical(y_test, 10)"
      ],
      "execution_count": 7,
      "outputs": [
        {
          "output_type": "stream",
          "text": [
            "Downloading data from https://www.cs.toronto.edu/~kriz/cifar-10-python.tar.gz\n",
            "170500096/170498071 [==============================] - 11s 0us/step\n",
            "Train samples: (50000, 32, 32, 3) (50000, 1)\n",
            "Test samples: (10000, 32, 32, 3) (10000, 1)\n"
          ],
          "name": "stdout"
        }
      ]
    },
    {
      "cell_type": "code",
      "metadata": {
        "colab_type": "code",
        "id": "xNl2e8LeftcC",
        "colab": {}
      },
      "source": [
        "from keras.models import Sequential\n",
        "from keras.layers import Conv2D, MaxPooling2D, Flatten, Dense, Activation, Dropout\n",
        "from keras.layers.advanced_activations import LeakyReLU\n",
        "from keras.models import load_model"
      ],
      "execution_count": 0,
      "outputs": []
    },
    {
      "cell_type": "markdown",
      "metadata": {
        "colab_type": "text",
        "id": "f2vQIUE3UeiE"
      },
      "source": [
        "Определим функцию `fit_model` с архитектурой архитектура CNN.\n",
        "\n",
        "Метод `model.fit` возвращает объект класса `keras.callbacks.History()` — это колбэк, который автоматически применяется ко всем моделям и логирует много чего полезного. В частности логируются значения функции потерь на каждой итерации."
      ]
    },
    {
      "cell_type": "markdown",
      "metadata": {
        "colab_type": "text",
        "id": "dDslR6vNZry8"
      },
      "source": [
        "**Задание 1.1** (0.5 балла) Добавьте в архитектуру модели инициализацию весов для тех слоев, где она необходима.\n"
      ]
    },
    {
      "cell_type": "code",
      "metadata": {
        "colab_type": "code",
        "id": "2_Lu7SO3CMid",
        "colab": {}
      },
      "source": [
        "def fit_model(initializer='glorot_normal'):\n",
        "    s = reset_tf_session()  \n",
        "    INIT_LR = 5e-3\n",
        "    BATCH_SIZE = 32\n",
        "    EPOCHS = 10\n",
        "   \n",
        "    def lr_scheduler(epoch):\n",
        "        return INIT_LR * 0.9 ** epoch  \n",
        "\n",
        "    #kernel_initializer=initializer \n",
        "\n",
        "    model = Sequential()\n",
        "    model.add(Conv2D(filters=16, padding='same', kernel_size=(3,3), input_shape=(32,32,3),kernel_initializer=initializer ))\n",
        "    model.add(LeakyReLU(0.1))\n",
        "    model.add(Conv2D(filters=64, padding='same', kernel_size=(3,3),kernel_initializer=initializer ))  \n",
        "    model.add(LeakyReLU(0.1))\n",
        "    model.add(MaxPooling2D(pool_size=(2,2), padding='same'))\n",
        "    model.add(Dropout(0.25))\n",
        "    model.add(Flatten())\n",
        "    model.add(Dense(40,kernel_initializer=initializer ))\n",
        "    model.add(LeakyReLU(0.1))\n",
        "    model.add(Dropout(0.5))    \n",
        "    model.add(Dense(10,kernel_initializer=initializer ))\n",
        "    model.add(Activation(\"softmax\"))\n",
        "\n",
        "\n",
        "    model.compile(\n",
        "        loss='categorical_crossentropy',\n",
        "        optimizer=keras.optimizers.adamax(lr=INIT_LR),\n",
        "        metrics=['accuracy']\n",
        "    )\n",
        "  \n",
        "    history = model.fit(\n",
        "        x_train, y_train,\n",
        "        batch_size=BATCH_SIZE,\n",
        "        epochs=EPOCHS,\n",
        "        callbacks=[keras.callbacks.LearningRateScheduler(lr_scheduler)],                   \n",
        "        shuffle=True,\n",
        "        verbose=0,\n",
        "        initial_epoch=0    \n",
        "    )\n",
        "\n",
        "    # Возвращаем объект класса keras.callbacks.History\n",
        "    return history"
      ],
      "execution_count": 0,
      "outputs": []
    },
    {
      "cell_type": "markdown",
      "metadata": {
        "colab_type": "text",
        "id": "bYkZkghfT4uN"
      },
      "source": [
        "**Задание 1.2** (1.5 балла). Обучите модель с разными [функциями инициализации](https://keras.io/initializers/) весов:\n",
        "* `Zeros` — веса инициализируются нулями\n",
        "* `Constant=0.05` — веса инициализируются константой 0.05\n",
        "* `RandomUniform` — веса генерируются равномерно из отрезка [-0.05, 0.05]\n",
        "* `glorot_normal` — Xavier initializer из лекций\n",
        "* `lecun_uniform`\n",
        "\n",
        "Добавьте в список `losses` значения функции потерь для каждой функции инициализации, их можно достать из `History`\n",
        "\n"
      ]
    },
    {
      "cell_type": "code",
      "metadata": {
        "colab_type": "code",
        "id": "dTieYmgUmQ8G",
        "outputId": "8f71331d-724f-40e8-d67b-869392e89c71",
        "colab": {
          "base_uri": "https://localhost:8080/",
          "height": 71
        }
      },
      "source": [
        "losses = []\n",
        "\n",
        "for i in [keras.initializers.Zeros(), keras.initializers.Constant(0.05), keras.initializers.RandomUniform(), \n",
        "                    keras.initializers.glorot_normal(), keras.initializers.lecun_uniform()]:                   \n",
        "      zhop=fit_model(initializer=i)\n",
        "      losses.append(zhop)\n",
        "\n"
      ],
      "execution_count": 18,
      "outputs": [
        {
          "output_type": "stream",
          "text": [
            "WARNING:tensorflow:From /usr/local/lib/python3.6/dist-packages/keras/backend/tensorflow_backend.py:4479: The name tf.truncated_normal is deprecated. Please use tf.random.truncated_normal instead.\n",
            "\n"
          ],
          "name": "stdout"
        }
      ]
    },
    {
      "cell_type": "code",
      "metadata": {
        "id": "JIq6WqcGK3n1",
        "colab_type": "code",
        "outputId": "a1d35ab5-e98e-4087-cfb9-718a62546c83",
        "colab": {
          "base_uri": "https://localhost:8080/",
          "height": 497
        }
      },
      "source": [
        "plt.figure(figsize=(10, 8))\n",
        "for n,l in zip(['zeros','constant 0.5','randomuniform','glorot_normal','lecanuniform'],losses):\n",
        "    plt.plot(np.arange(10),l.history['loss'] , label=n)\n",
        "plt.ylabel('лосс, у.е.')\n",
        "plt.xlabel('Число эпох, штука')\n",
        "plt.legend()\n",
        "plt.show()"
      ],
      "execution_count": 19,
      "outputs": [
        {
          "output_type": "display_data",
          "data": {
            "image/png": "[encoded data removed]",
            "text/plain": [
              "<Figure size 720x576 with 1 Axes>"
            ]
          },
          "metadata": {
            "tags": []
          }
        }
      ]
    },
    {
      "cell_type": "markdown",
      "metadata": {
        "colab_type": "text",
        "id": "wsk8bCEPcOav"
      },
      "source": [
        "**Задание 1.3** (1 балла). Постройте графики зависимости функций потерь от номера итерации, подпишите их. Прокомментируйте результат."
      ]
    },
    {
      "cell_type": "code",
      "metadata": {
        "colab_type": "code",
        "id": "3yqBZIYEAPWZ",
        "colab": {
          "base_uri": "https://localhost:8080/",
          "height": 129
        },
        "outputId": "3b3a6d01-d39c-4978-e06c-dd572c76e267"
      },
      "source": [
        "Из графиков, полученных выше, становится вполне очевидно, что инициализация нулями ни к чему путному не ведет, а лучше всего себя показивает глорот и лекан "
      ],
      "execution_count": 20,
      "outputs": [
        {
          "output_type": "error",
          "ename": "SyntaxError",
          "evalue": "ignored",
          "traceback": [
            "\u001b[0;36m  File \u001b[0;32m\"<ipython-input-20-eec310fa375a>\"\u001b[0;36m, line \u001b[0;32m1\u001b[0m\n\u001b[0;31m    Из графиков, полученных выше, становится вполне очевидно, что инициализация нулями ни к чему путному не ведет, а лучше всего себя показивает глорот и лекан\u001b[0m\n\u001b[0m              ^\u001b[0m\n\u001b[0;31mSyntaxError\u001b[0m\u001b[0;31m:\u001b[0m invalid syntax\n"
          ]
        }
      ]
    },
    {
      "cell_type": "markdown",
      "metadata": {
        "id": "E5hmh14aj55z",
        "colab_type": "text"
      },
      "source": [
        ""
      ]
    },
    {
      "cell_type": "markdown",
      "metadata": {
        "colab_type": "text",
        "id": "nellCcusBAZ8"
      },
      "source": [
        "## Задание 2 — CNN для CIFAR-10 с сохранением весов модели (7 баллов)\n",
        "\n",
        "В этом задании мы модифицируем нейросеть с семинара, чтобы она достигала большего значения `accuracy` и научимся сохранять веса модели в файл во время обучения. Можно использовать только те же слои, которые использовались на семинаре: `Conv2D, MaxPooling2D,  LeakyReLU, Dropout, Flatten, Dense`."
      ]
    },
    {
      "cell_type": "markdown",
      "metadata": {
        "colab_type": "text",
        "id": "xuVF3c2qJwyx"
      },
      "source": [
        "**Задание 2.1** (4 балла). Подберите архитектуру модели так, чтобы значение `accuracy` на тестовой выборке было не менее 85."
      ]
    },
    {
      "cell_type": "code",
      "metadata": {
        "colab_type": "code",
        "id": "syKDJPUdCtoI",
        "colab": {}
      },
      "source": [
        "def make_model():    \n",
        "\n",
        "    model = Sequential()\n",
        "    model.add(Conv2D(filters=16, padding='same', kernel_size=(3,3), input_shape=(32,32,3),kernel_initializer= keras.initializers.lecun_uniform() ))\n",
        "    model.add(LeakyReLU(0.1))\n",
        "    model.add(Conv2D(filters=32, padding='same', kernel_size=(3,3),kernel_initializer= keras.initializers.lecun_uniform() ))  \n",
        "    model.add(LeakyReLU(0.1))\n",
        "    model.add(Conv2D(filters=64, padding='same', kernel_size=(3,3),kernel_initializer= keras.initializers.lecun_uniform() ))  \n",
        "    model.add(LeakyReLU(0.1))\n",
        "    model.add(MaxPooling2D(pool_size=(2,2), padding='same'))\n",
        "    model.add(Dropout(0.25))\n",
        "    model.add(Conv2D(filters=128, padding='same', kernel_size=(3,3), input_shape=(32,32,3),kernel_initializer= keras.initializers.lecun_uniform() ))\n",
        "    model.add(LeakyReLU(0.1))\n",
        "    model.add(Conv2D(filters=228, padding='same', kernel_size=(3,3),kernel_initializer= keras.initializers.lecun_uniform() ))  \n",
        "    model.add(LeakyReLU(0.1))\n",
        "    model.add(MaxPooling2D(pool_size=(2,2), padding='same'))\n",
        "    model.add(Dropout(0.25))\n",
        "    model.add(Conv2D(filters=322, padding='same', kernel_size=(3,3),kernel_initializer= keras.initializers.lecun_uniform() ))  \n",
        "    model.add(LeakyReLU(0.1))\n",
        "    model.add(MaxPooling2D(pool_size=(2,2), padding='same'))\n",
        "    model.add(Dropout(0.25))\n",
        "    model.add(Flatten())\n",
        "    model.add(Dense(40,kernel_initializer= keras.initializers.lecun_uniform() ))\n",
        "    model.add(Dropout(0.5))  \n",
        "    model.add(LeakyReLU(0.1))\n",
        "      \n",
        "    model.add(Dense(10,kernel_initializer= keras.initializers.lecun_uniform() ))\n",
        "    model.add(Activation(\"softmax\"))\n",
        "    return model   "
      ],
      "execution_count": 0,
      "outputs": []
    },
    {
      "cell_type": "code",
      "metadata": {
        "colab_type": "code",
        "id": "MoZifjkgFdcg",
        "outputId": "193dab57-feeb-4e5f-d793-665006921359",
        "colab": {
          "base_uri": "https://localhost:8080/",
          "height": 1000
        }
      },
      "source": [
        "s = reset_tf_session()\n",
        "model = make_model()\n",
        "model.summary()"
      ],
      "execution_count": 12,
      "outputs": [
        {
          "output_type": "stream",
          "text": [
            "WARNING:tensorflow:From /usr/local/lib/python3.6/dist-packages/keras/backend/tensorflow_backend.py:4432: The name tf.random_uniform is deprecated. Please use tf.random.uniform instead.\n",
            "\n",
            "Model: \"sequential_1\"\n",
            "_________________________________________________________________\n",
            "Layer (type)                 Output Shape              Param #   \n",
            "=================================================================\n",
            "conv2d_1 (Conv2D)            (None, 32, 32, 16)        448       \n",
            "_________________________________________________________________\n",
            "leaky_re_lu_1 (LeakyReLU)    (None, 32, 32, 16)        0         \n",
            "_________________________________________________________________\n",
            "conv2d_2 (Conv2D)            (None, 32, 32, 32)        4640      \n",
            "_________________________________________________________________\n",
            "leaky_re_lu_2 (LeakyReLU)    (None, 32, 32, 32)        0         \n",
            "_________________________________________________________________\n",
            "conv2d_3 (Conv2D)            (None, 32, 32, 64)        18496     \n",
            "_________________________________________________________________\n",
            "leaky_re_lu_3 (LeakyReLU)    (None, 32, 32, 64)        0         \n",
            "_________________________________________________________________\n",
            "max_pooling2d_1 (MaxPooling2 (None, 16, 16, 64)        0         \n",
            "_________________________________________________________________\n",
            "dropout_1 (Dropout)          (None, 16, 16, 64)        0         \n",
            "_________________________________________________________________\n",
            "conv2d_4 (Conv2D)            (None, 16, 16, 128)       73856     \n",
            "_________________________________________________________________\n",
            "leaky_re_lu_4 (LeakyReLU)    (None, 16, 16, 128)       0         \n",
            "_________________________________________________________________\n",
            "conv2d_5 (Conv2D)            (None, 16, 16, 228)       262884    \n",
            "_________________________________________________________________\n",
            "leaky_re_lu_5 (LeakyReLU)    (None, 16, 16, 228)       0         \n",
            "_________________________________________________________________\n",
            "max_pooling2d_2 (MaxPooling2 (None, 8, 8, 228)         0         \n",
            "_________________________________________________________________\n",
            "dropout_2 (Dropout)          (None, 8, 8, 228)         0         \n",
            "_________________________________________________________________\n",
            "conv2d_6 (Conv2D)            (None, 8, 8, 322)         661066    \n",
            "_________________________________________________________________\n",
            "leaky_re_lu_6 (LeakyReLU)    (None, 8, 8, 322)         0         \n",
            "_________________________________________________________________\n",
            "max_pooling2d_3 (MaxPooling2 (None, 4, 4, 322)         0         \n",
            "_________________________________________________________________\n",
            "dropout_3 (Dropout)          (None, 4, 4, 322)         0         \n",
            "_________________________________________________________________\n",
            "flatten_1 (Flatten)          (None, 5152)              0         \n",
            "_________________________________________________________________\n",
            "dense_1 (Dense)              (None, 40)                206120    \n",
            "_________________________________________________________________\n",
            "dropout_4 (Dropout)          (None, 40)                0         \n",
            "_________________________________________________________________\n",
            "leaky_re_lu_7 (LeakyReLU)    (None, 40)                0         \n",
            "_________________________________________________________________\n",
            "dense_2 (Dense)              (None, 10)                410       \n",
            "_________________________________________________________________\n",
            "activation_1 (Activation)    (None, 10)                0         \n",
            "=================================================================\n",
            "Total params: 1,227,920\n",
            "Trainable params: 1,227,920\n",
            "Non-trainable params: 0\n",
            "_________________________________________________________________\n"
          ],
          "name": "stdout"
        }
      ]
    },
    {
      "cell_type": "markdown",
      "metadata": {
        "colab_type": "text",
        "id": "JJLpZQhJGBqL"
      },
      "source": [
        "**Задание 2.2** (2 балла). Реализуйте колбэк, который сохраняет модель в `.hdf5` файл и печатает имя файла, в который была сохранена модель. Используйте функцию `model_save`. Строка с именем файла имеет вид `<name>_{0:02d}.hdf5`, отформатируйте ее так, чтобы в имени строки фигурировал номер эпохи."
      ]
    },
    {
      "cell_type": "markdown",
      "metadata": {
        "id": "I6ZrV7U3Q-XM",
        "colab_type": "text"
      },
      "source": [
        ""
      ]
    },
    {
      "cell_type": "code",
      "metadata": {
        "colab_type": "code",
        "id": "xYjUeuDXGBII",
        "colab": {}
      },
      "source": [
        "from keras.models import save_model, load_model\n",
        "\n",
        "class ModelSaveCallback(keras.callbacks.Callback):\n",
        "\n",
        "    def __init__(self, file_name):\n",
        "        super(ModelSaveCallback, self).__init__()\n",
        "        self.file_name = file_name\n",
        "\n",
        "    def on_epoch_end(self, epoch, logs=None):\n",
        "        a='here'\n",
        "        model.save_weights(\"weigths_{0:02d}.hdf5\".format(epoch))\n",
        "        print(\"weigths_{0:02d}.hdf5\".format(epoch))\n"
      ],
      "execution_count": 0,
      "outputs": []
    },
    {
      "cell_type": "markdown",
      "metadata": {
        "colab_type": "text",
        "id": "Svrwkh8ALpHa"
      },
      "source": [
        "**Задание 2.3** (1 балл). Реализуйте функцию, которая с помощью `load_model` будет загружать модель из файла."
      ]
    },
    {
      "cell_type": "code",
      "metadata": {
        "colab_type": "code",
        "id": "fVD0P5V7M00C",
        "colab": {}
      },
      "source": [
        "def load_from_file(model_filename, last_epoch):\n",
        "    return load_model(model_filename.format(last_epoch))\n"
      ],
      "execution_count": 0,
      "outputs": []
    },
    {
      "cell_type": "code",
      "metadata": {
        "colab_type": "code",
        "id": "zOLb6flQFjCw",
        "outputId": "c4a5a8c5-4e1b-4ec5-86fd-3d3149c65b56",
        "colab": {
          "base_uri": "https://localhost:8080/",
          "height": 1000
        }
      },
      "source": [
        "INIT_LR = 5e-3\n",
        "BATCH_SIZE = 32\n",
        "EPOCHS = 20\n",
        "\n",
        "model_filename = 'weights_{0:02d}.hdf5'\n",
        "\n",
        "s = reset_tf_session()\n",
        "\n",
        "model = make_model()\n",
        "\n",
        "model.compile(\n",
        "    loss='categorical_crossentropy',\n",
        "    optimizer=keras.optimizers.adamax(lr=INIT_LR),\n",
        "    metrics=['accuracy']\n",
        ")\n",
        "\n",
        "def lr_scheduler(epoch):\n",
        "    return INIT_LR * 0.9 ** epoch \n",
        "\n",
        "# в случае, если обучение было прервано, можно загрузить модель из файла, \n",
        "# соответствующего последней эпохе, за которую есть сохраненные веса\n",
        "# model = load_from_file(model_filename, 4)\n",
        "  \n",
        "history = model.fit(\n",
        "    x_train, y_train,\n",
        "    batch_size=BATCH_SIZE,\n",
        "    epochs=EPOCHS,\n",
        "    callbacks=[keras.callbacks.LearningRateScheduler(lr_scheduler), \n",
        "               # не забудьте передать сюда ModelSaveCallback\n",
        "               ModelSaveCallback(model_filename)\n",
        "              ],\n",
        "    validation_data=(x_test, y_test),\n",
        "    shuffle=True,\n",
        "    verbose=1,\n",
        "    initial_epoch=0    \n",
        ")\n",
        "  "
      ],
      "execution_count": 15,
      "outputs": [
        {
          "output_type": "stream",
          "text": [
            "Train on 50000 samples, validate on 10000 samples\n",
            "Epoch 1/20\n",
            "50000/50000 [==============================] - 58s 1ms/step - loss: 1.5634 - acc: 0.4315 - val_loss: 1.1150 - val_acc: 0.6030\n",
            "weigths_00.hdf5\n",
            "Epoch 2/20\n",
            "50000/50000 [==============================] - 56s 1ms/step - loss: 1.1031 - acc: 0.6132 - val_loss: 0.9006 - val_acc: 0.6850\n",
            "weigths_01.hdf5\n",
            "Epoch 3/20\n",
            "50000/50000 [==============================] - 57s 1ms/step - loss: 0.9439 - acc: 0.6745 - val_loss: 0.7661 - val_acc: 0.7388\n",
            "weigths_02.hdf5\n",
            "Epoch 4/20\n",
            "50000/50000 [==============================] - 57s 1ms/step - loss: 0.8312 - acc: 0.7164 - val_loss: 0.6888 - val_acc: 0.7655\n",
            "weigths_03.hdf5\n",
            "Epoch 5/20\n",
            "50000/50000 [==============================] - 57s 1ms/step - loss: 0.7487 - acc: 0.7407 - val_loss: 0.6564 - val_acc: 0.7782\n",
            "weigths_04.hdf5\n",
            "Epoch 6/20\n",
            "50000/50000 [==============================] - 57s 1ms/step - loss: 0.6756 - acc: 0.7689 - val_loss: 0.5892 - val_acc: 0.8023\n",
            "weigths_05.hdf5\n",
            "Epoch 7/20\n",
            "50000/50000 [==============================] - 57s 1ms/step - loss: 0.6218 - acc: 0.7888 - val_loss: 0.5728 - val_acc: 0.8058\n",
            "weigths_06.hdf5\n",
            "Epoch 8/20\n",
            "50000/50000 [==============================] - 57s 1ms/step - loss: 0.5727 - acc: 0.8062 - val_loss: 0.5612 - val_acc: 0.8070\n",
            "weigths_07.hdf5\n",
            "Epoch 9/20\n",
            "50000/50000 [==============================] - 57s 1ms/step - loss: 0.5232 - acc: 0.8206 - val_loss: 0.5265 - val_acc: 0.8236\n",
            "weigths_08.hdf5\n",
            "Epoch 10/20\n",
            "50000/50000 [==============================] - 57s 1ms/step - loss: 0.4779 - acc: 0.8355 - val_loss: 0.5289 - val_acc: 0.8281\n",
            "weigths_09.hdf5\n",
            "Epoch 11/20\n",
            "50000/50000 [==============================] - 55s 1ms/step - loss: 0.4491 - acc: 0.8446 - val_loss: 0.5311 - val_acc: 0.8212\n",
            "weigths_10.hdf5\n",
            "Epoch 12/20\n",
            "50000/50000 [==============================] - 57s 1ms/step - loss: 0.4134 - acc: 0.8567 - val_loss: 0.5092 - val_acc: 0.8354\n",
            "weigths_11.hdf5\n",
            "Epoch 13/20\n",
            "50000/50000 [==============================] - 57s 1ms/step - loss: 0.3927 - acc: 0.8644 - val_loss: 0.4933 - val_acc: 0.8396\n",
            "weigths_12.hdf5\n",
            "Epoch 14/20\n",
            "50000/50000 [==============================] - 57s 1ms/step - loss: 0.3652 - acc: 0.8747 - val_loss: 0.5094 - val_acc: 0.8449\n",
            "weigths_13.hdf5\n",
            "Epoch 15/20\n",
            "50000/50000 [==============================] - 57s 1ms/step - loss: 0.3455 - acc: 0.8806 - val_loss: 0.4952 - val_acc: 0.8464\n",
            "weigths_14.hdf5\n",
            "Epoch 16/20\n",
            "50000/50000 [==============================] - 57s 1ms/step - loss: 0.3245 - acc: 0.8864 - val_loss: 0.4769 - val_acc: 0.8496\n",
            "weigths_15.hdf5\n",
            "Epoch 17/20\n",
            "50000/50000 [==============================] - 57s 1ms/step - loss: 0.3111 - acc: 0.8920 - val_loss: 0.4952 - val_acc: 0.8505\n",
            "weigths_16.hdf5\n",
            "Epoch 18/20\n",
            "50000/50000 [==============================] - 57s 1ms/step - loss: 0.2940 - acc: 0.8987 - val_loss: 0.4822 - val_acc: 0.8444\n",
            "weigths_17.hdf5\n",
            "Epoch 19/20\n",
            "50000/50000 [==============================] - 57s 1ms/step - loss: 0.2769 - acc: 0.9035 - val_loss: 0.4675 - val_acc: 0.8540\n",
            "weigths_18.hdf5\n",
            "Epoch 20/20\n",
            "50000/50000 [==============================] - 57s 1ms/step - loss: 0.2678 - acc: 0.9048 - val_loss: 0.4908 - val_acc: 0.8539\n",
            "weigths_19.hdf5\n"
          ],
          "name": "stdout"
        }
      ]
    },
    {
      "cell_type": "code",
      "metadata": {
        "id": "NJ4C1giSSvUl",
        "colab_type": "code",
        "colab": {}
      },
      "source": [
        "a=np.array([1,2,6,500])"
      ],
      "execution_count": 0,
      "outputs": []
    },
    {
      "cell_type": "code",
      "metadata": {
        "id": "Mar3my3cTSIR",
        "colab_type": "code",
        "colab": {
          "base_uri": "https://localhost:8080/",
          "height": 34
        },
        "outputId": "1efe32e7-857d-4575-963c-e67e0f9da3c9"
      },
      "source": [
        "print(a**2)"
      ],
      "execution_count": 17,
      "outputs": [
        {
          "output_type": "stream",
          "text": [
            "[     1      4     36 250000]\n"
          ],
          "name": "stdout"
        }
      ]
    },
    {
      "cell_type": "code",
      "metadata": {
        "id": "_GRVXJaITXVj",
        "colab_type": "code",
        "colab": {}
      },
      "source": [
        ""
      ],
      "execution_count": 0,
      "outputs": []
    }
  ]
}